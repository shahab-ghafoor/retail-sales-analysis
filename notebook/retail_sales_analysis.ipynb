{
 "cells": [
  {
   "cell_type": "markdown",
   "id": "5f230362-1975-40e2-8a08-d6ce4a91e2e9",
   "metadata": {},
   "source": [
    "# Retail sales analysis"
   ]
  },
  {
   "cell_type": "markdown",
   "id": "bb49ae0b-3be9-43cc-b103-681f550a5e1c",
   "metadata": {},
   "source": [
    "## Importing modules"
   ]
  },
  {
   "cell_type": "markdown",
   "id": "6c44af02-6b73-4f18-a71c-39b0e495d2d7",
   "metadata": {},
   "source": [
    "### Import Pandas"
   ]
  },
  {
   "cell_type": "code",
   "execution_count": 1,
   "id": "d184a1a5-e324-480d-9541-4b4462a758ed",
   "metadata": {},
   "outputs": [],
   "source": [
    "# Importing the pandas module with the common alias\n",
    "import pandas as pd"
   ]
  },
  {
   "cell_type": "markdown",
   "id": "69033810-09ca-429e-a9be-f87ee83268ac",
   "metadata": {},
   "source": [
    "## Loading the Data"
   ]
  },
  {
   "cell_type": "markdown",
   "id": "6eaa11fd-3cbf-45d5-b89f-25a1dce646f8",
   "metadata": {},
   "source": [
    "### Import Data"
   ]
  },
  {
   "cell_type": "code",
   "execution_count": 2,
   "id": "273bb16e-61c5-439c-86d6-46b627d486e0",
   "metadata": {},
   "outputs": [],
   "source": [
    "# Load the dataset \n",
    "sales_df = pd.read_csv(r\"C:\\Users\\Shahab Ghafoor\\Projects\\Retail-Sales-Analysis\\data\\sales.csv\")"
   ]
  },
  {
   "cell_type": "code",
   "execution_count": 3,
   "id": "812ed1a5-a361-4122-812b-b9aafab0465b",
   "metadata": {},
   "outputs": [
    {
     "data": {
      "text/html": [
       "<div>\n",
       "<style scoped>\n",
       "    .dataframe tbody tr th:only-of-type {\n",
       "        vertical-align: middle;\n",
       "    }\n",
       "\n",
       "    .dataframe tbody tr th {\n",
       "        vertical-align: top;\n",
       "    }\n",
       "\n",
       "    .dataframe thead th {\n",
       "        text-align: right;\n",
       "    }\n",
       "</style>\n",
       "<table border=\"1\" class=\"dataframe\">\n",
       "  <thead>\n",
       "    <tr style=\"text-align: right;\">\n",
       "      <th></th>\n",
       "      <th>invoice_id</th>\n",
       "      <th>date</th>\n",
       "      <th>day_of_week</th>\n",
       "      <th>product_name</th>\n",
       "      <th>units_sold</th>\n",
       "      <th>price_per_unit</th>\n",
       "      <th>amount</th>\n",
       "    </tr>\n",
       "  </thead>\n",
       "  <tbody>\n",
       "    <tr>\n",
       "      <th>0</th>\n",
       "      <td>534377</td>\n",
       "      <td>2010-11-22</td>\n",
       "      <td>Monday</td>\n",
       "      <td>RED RETROSPOT TRADITIONAL TEAPOT</td>\n",
       "      <td>1</td>\n",
       "      <td>7.95</td>\n",
       "      <td>7.95</td>\n",
       "    </tr>\n",
       "    <tr>\n",
       "      <th>1</th>\n",
       "      <td>534377</td>\n",
       "      <td>2010-11-22</td>\n",
       "      <td>Monday</td>\n",
       "      <td>SET/5 RED RETROSPOT LID GLASS BOWLS</td>\n",
       "      <td>1</td>\n",
       "      <td>2.95</td>\n",
       "      <td>2.95</td>\n",
       "    </tr>\n",
       "    <tr>\n",
       "      <th>2</th>\n",
       "      <td>534377</td>\n",
       "      <td>2010-11-22</td>\n",
       "      <td>Monday</td>\n",
       "      <td>BROWN CHECK CAT DOORSTOP</td>\n",
       "      <td>1</td>\n",
       "      <td>4.25</td>\n",
       "      <td>4.25</td>\n",
       "    </tr>\n",
       "    <tr>\n",
       "      <th>3</th>\n",
       "      <td>534377</td>\n",
       "      <td>2010-11-22</td>\n",
       "      <td>Monday</td>\n",
       "      <td>TEA BAG PLATE RED RETROSPOT</td>\n",
       "      <td>2</td>\n",
       "      <td>0.85</td>\n",
       "      <td>1.70</td>\n",
       "    </tr>\n",
       "    <tr>\n",
       "      <th>4</th>\n",
       "      <td>534377</td>\n",
       "      <td>2010-11-22</td>\n",
       "      <td>Monday</td>\n",
       "      <td>CHILLI LIGHTS</td>\n",
       "      <td>1</td>\n",
       "      <td>4.95</td>\n",
       "      <td>4.95</td>\n",
       "    </tr>\n",
       "  </tbody>\n",
       "</table>\n",
       "</div>"
      ],
      "text/plain": [
       "   invoice_id        date day_of_week                         product_name  \\\n",
       "0      534377  2010-11-22      Monday    RED RETROSPOT TRADITIONAL TEAPOT    \n",
       "1      534377  2010-11-22      Monday  SET/5 RED RETROSPOT LID GLASS BOWLS   \n",
       "2      534377  2010-11-22      Monday            BROWN CHECK CAT DOORSTOP    \n",
       "3      534377  2010-11-22      Monday          TEA BAG PLATE RED RETROSPOT   \n",
       "4      534377  2010-11-22      Monday                        CHILLI LIGHTS   \n",
       "\n",
       "   units_sold  price_per_unit  amount  \n",
       "0           1            7.95    7.95  \n",
       "1           1            2.95    2.95  \n",
       "2           1            4.25    4.25  \n",
       "3           2            0.85    1.70  \n",
       "4           1            4.95    4.95  "
      ]
     },
     "execution_count": 3,
     "metadata": {},
     "output_type": "execute_result"
    }
   ],
   "source": [
    "# Inspect the loaded data using head() method\n",
    "sales_df.head()"
   ]
  },
  {
   "cell_type": "markdown",
   "id": "fda0b2ff-3cd3-49fa-8f44-4125c89f8d86",
   "metadata": {},
   "source": [
    "## Processing and Analyzing the Dataset"
   ]
  },
  {
   "cell_type": "markdown",
   "id": "7777d344-590f-47f7-90fb-d594e5d4d6b2",
   "metadata": {},
   "source": [
    "### Understanding the data"
   ]
  },
  {
   "cell_type": "code",
   "execution_count": 4,
   "id": "3e7c9973-8bc8-4585-9d0e-34d63bdbcbed",
   "metadata": {},
   "outputs": [],
   "source": [
    "# Get the data types of each feature\n",
    "feature_types = sales_df.dtypes"
   ]
  },
  {
   "cell_type": "code",
   "execution_count": 5,
   "id": "d1d0ef34-7132-4b84-8613-ac9e8607f174",
   "metadata": {},
   "outputs": [
    {
     "name": "stdout",
     "output_type": "stream",
     "text": [
      "invoice_id          int64\n",
      "date               object\n",
      "day_of_week        object\n",
      "product_name       object\n",
      "units_sold          int64\n",
      "price_per_unit    float64\n",
      "amount            float64\n",
      "dtype: object\n"
     ]
    }
   ],
   "source": [
    "# Print the result\n",
    "print(feature_types)"
   ]
  },
  {
   "cell_type": "markdown",
   "id": "ea6d5120-1b30-4451-9976-a672271faee8",
   "metadata": {},
   "source": [
    "### Sorting the DataFrame"
   ]
  },
  {
   "cell_type": "markdown",
   "id": "496dd554-c1f7-4f4f-8964-5a1baa5b6571",
   "metadata": {},
   "source": [
    "#### Purchases with Biggest Sales"
   ]
  },
  {
   "cell_type": "code",
   "execution_count": 6,
   "id": "19f32993-770a-42e7-acdd-858ea5c7fbf9",
   "metadata": {},
   "outputs": [],
   "source": [
    "sorted_df = sales_df.sort_values('amount', ascending=False)\n",
    "top_10 = sorted_df.head(10)"
   ]
  },
  {
   "cell_type": "code",
   "execution_count": 7,
   "id": "9896eec5-f477-4ecd-abdc-bb461d933a72",
   "metadata": {},
   "outputs": [
    {
     "data": {
      "text/html": [
       "<div>\n",
       "<style scoped>\n",
       "    .dataframe tbody tr th:only-of-type {\n",
       "        vertical-align: middle;\n",
       "    }\n",
       "\n",
       "    .dataframe tbody tr th {\n",
       "        vertical-align: top;\n",
       "    }\n",
       "\n",
       "    .dataframe thead th {\n",
       "        text-align: right;\n",
       "    }\n",
       "</style>\n",
       "<table border=\"1\" class=\"dataframe\">\n",
       "  <thead>\n",
       "    <tr style=\"text-align: right;\">\n",
       "      <th></th>\n",
       "      <th>invoice_id</th>\n",
       "      <th>date</th>\n",
       "      <th>day_of_week</th>\n",
       "      <th>product_name</th>\n",
       "      <th>units_sold</th>\n",
       "      <th>price_per_unit</th>\n",
       "      <th>amount</th>\n",
       "    </tr>\n",
       "  </thead>\n",
       "  <tbody>\n",
       "    <tr>\n",
       "      <th>438</th>\n",
       "      <td>534418</td>\n",
       "      <td>2010-12-02</td>\n",
       "      <td>Thursday</td>\n",
       "      <td>VINTAGE RED KITCHEN CABINET</td>\n",
       "      <td>1</td>\n",
       "      <td>295.00</td>\n",
       "      <td>295.00</td>\n",
       "    </tr>\n",
       "    <tr>\n",
       "      <th>418</th>\n",
       "      <td>534409</td>\n",
       "      <td>2010-11-30</td>\n",
       "      <td>Tuesday</td>\n",
       "      <td>3 TIER CAKE TIN GREEN AND CREAM</td>\n",
       "      <td>4</td>\n",
       "      <td>14.95</td>\n",
       "      <td>59.80</td>\n",
       "    </tr>\n",
       "    <tr>\n",
       "      <th>303</th>\n",
       "      <td>534399</td>\n",
       "      <td>2010-11-25</td>\n",
       "      <td>Thursday</td>\n",
       "      <td>CAKE TIN, 3 TIER MINT/IVORY</td>\n",
       "      <td>3</td>\n",
       "      <td>14.95</td>\n",
       "      <td>44.85</td>\n",
       "    </tr>\n",
       "    <tr>\n",
       "      <th>301</th>\n",
       "      <td>534399</td>\n",
       "      <td>2010-11-25</td>\n",
       "      <td>Thursday</td>\n",
       "      <td>CAKE TIN, 3 TIER RED/IVORY</td>\n",
       "      <td>3</td>\n",
       "      <td>14.95</td>\n",
       "      <td>44.85</td>\n",
       "    </tr>\n",
       "    <tr>\n",
       "      <th>17</th>\n",
       "      <td>534378</td>\n",
       "      <td>2010-11-22</td>\n",
       "      <td>Monday</td>\n",
       "      <td>SET/4 WHITE RETRO STORAGE CUBES</td>\n",
       "      <td>1</td>\n",
       "      <td>39.95</td>\n",
       "      <td>39.95</td>\n",
       "    </tr>\n",
       "    <tr>\n",
       "      <th>414</th>\n",
       "      <td>534409</td>\n",
       "      <td>2010-11-30</td>\n",
       "      <td>Tuesday</td>\n",
       "      <td>REGENCY CAKESTAND 3 TIER</td>\n",
       "      <td>3</td>\n",
       "      <td>12.75</td>\n",
       "      <td>38.25</td>\n",
       "    </tr>\n",
       "    <tr>\n",
       "      <th>360</th>\n",
       "      <td>534406</td>\n",
       "      <td>2010-11-29</td>\n",
       "      <td>Monday</td>\n",
       "      <td>CREAM SWEETHEART WALL CABINET</td>\n",
       "      <td>2</td>\n",
       "      <td>18.95</td>\n",
       "      <td>37.90</td>\n",
       "    </tr>\n",
       "    <tr>\n",
       "      <th>53</th>\n",
       "      <td>534382</td>\n",
       "      <td>2010-11-23</td>\n",
       "      <td>Tuesday</td>\n",
       "      <td>WOODEN ADVENT CALENDAR CREAM</td>\n",
       "      <td>2</td>\n",
       "      <td>16.95</td>\n",
       "      <td>33.90</td>\n",
       "    </tr>\n",
       "    <tr>\n",
       "      <th>508</th>\n",
       "      <td>534424</td>\n",
       "      <td>2010-11-23</td>\n",
       "      <td>Tuesday</td>\n",
       "      <td>3 TIER CAKE TIN RED AND CREAM</td>\n",
       "      <td>2</td>\n",
       "      <td>14.95</td>\n",
       "      <td>29.90</td>\n",
       "    </tr>\n",
       "    <tr>\n",
       "      <th>564</th>\n",
       "      <td>534443</td>\n",
       "      <td>2010-12-03</td>\n",
       "      <td>Friday</td>\n",
       "      <td>3 TIER CAKE TIN RED AND CREAM</td>\n",
       "      <td>1</td>\n",
       "      <td>29.79</td>\n",
       "      <td>29.79</td>\n",
       "    </tr>\n",
       "  </tbody>\n",
       "</table>\n",
       "</div>"
      ],
      "text/plain": [
       "     invoice_id        date day_of_week                      product_name  \\\n",
       "438      534418  2010-12-02    Thursday       VINTAGE RED KITCHEN CABINET   \n",
       "418      534409  2010-11-30     Tuesday   3 TIER CAKE TIN GREEN AND CREAM   \n",
       "303      534399  2010-11-25    Thursday       CAKE TIN, 3 TIER MINT/IVORY   \n",
       "301      534399  2010-11-25    Thursday        CAKE TIN, 3 TIER RED/IVORY   \n",
       "17       534378  2010-11-22      Monday  SET/4 WHITE RETRO STORAGE CUBES    \n",
       "414      534409  2010-11-30     Tuesday          REGENCY CAKESTAND 3 TIER   \n",
       "360      534406  2010-11-29      Monday     CREAM SWEETHEART WALL CABINET   \n",
       "53       534382  2010-11-23     Tuesday      WOODEN ADVENT CALENDAR CREAM   \n",
       "508      534424  2010-11-23     Tuesday     3 TIER CAKE TIN RED AND CREAM   \n",
       "564      534443  2010-12-03      Friday     3 TIER CAKE TIN RED AND CREAM   \n",
       "\n",
       "     units_sold  price_per_unit  amount  \n",
       "438           1          295.00  295.00  \n",
       "418           4           14.95   59.80  \n",
       "303           3           14.95   44.85  \n",
       "301           3           14.95   44.85  \n",
       "17            1           39.95   39.95  \n",
       "414           3           12.75   38.25  \n",
       "360           2           18.95   37.90  \n",
       "53            2           16.95   33.90  \n",
       "508           2           14.95   29.90  \n",
       "564           1           29.79   29.79  "
      ]
     },
     "execution_count": 7,
     "metadata": {},
     "output_type": "execute_result"
    }
   ],
   "source": [
    "# Display the results\n",
    "top_10"
   ]
  },
  {
   "cell_type": "markdown",
   "id": "fffafdbd-ddea-4624-a68c-d0476ddcb31a",
   "metadata": {},
   "source": [
    "### Product counts"
   ]
  },
  {
   "cell_type": "markdown",
   "id": "96a2d881-21da-4679-8bf1-4978a1d4602a",
   "metadata": {},
   "source": [
    "#### Product name per row"
   ]
  },
  {
   "cell_type": "code",
   "execution_count": 8,
   "id": "43a1d3e5-3e5a-4ba5-8ba5-f872265b71e8",
   "metadata": {},
   "outputs": [],
   "source": [
    "# Find out which product name appears most frequently.\n",
    "product_counts = sales_df['product_name'].value_counts()"
   ]
  },
  {
   "cell_type": "code",
   "execution_count": 9,
   "id": "c8af61f4-84e6-43bc-82a2-7ced11bffad8",
   "metadata": {},
   "outputs": [
    {
     "data": {
      "text/plain": [
       "product_name\n",
       "HAND WARMER BIRD DESIGN           8\n",
       "HAND WARMER OWL DESIGN            8\n",
       "HAND WARMER RED RETROSPOT         7\n",
       "CHRISTMAS CRAFT LITTLE FRIENDS    7\n",
       "HAND WARMER SCOTTY DOG DESIGN     6\n",
       "Name: count, dtype: int64"
      ]
     },
     "execution_count": 9,
     "metadata": {},
     "output_type": "execute_result"
    }
   ],
   "source": [
    "# Preview the results\n",
    "product_counts.head()"
   ]
  },
  {
   "cell_type": "markdown",
   "id": "1399edbf-6b19-4896-93ce-51cfa0b65da6",
   "metadata": {},
   "source": [
    "#### Units sold per product name"
   ]
  },
  {
   "cell_type": "code",
   "execution_count": 10,
   "id": "776ae062-0fa0-4521-8f48-24d86768ce8f",
   "metadata": {},
   "outputs": [],
   "source": [
    "grouped_by_product_name = sales_df.groupby('product_name')\n",
    "unit_counts = grouped_by_product_name['units_sold'].sum()"
   ]
  },
  {
   "cell_type": "code",
   "execution_count": 11,
   "id": "70845331-1e01-4907-8c8b-1aa8661c557d",
   "metadata": {},
   "outputs": [
    {
     "data": {
      "text/plain": [
       "product_name\n",
       "HAND WARMER BIRD DESIGN      14\n",
       "SMALL POPCORN HOLDER         13\n",
       "HAND WARMER RED RETROSPOT    13\n",
       "HAND WARMER OWL DESIGN       12\n",
       "SCANDINAVIAN REDS RIBBONS    12\n",
       "Name: units_sold, dtype: int64"
      ]
     },
     "execution_count": 11,
     "metadata": {},
     "output_type": "execute_result"
    }
   ],
   "source": [
    "# Sort and preview the results\n",
    "unit_counts.sort_values(ascending=False).head()"
   ]
  },
  {
   "cell_type": "markdown",
   "id": "a8c1f7bd-dfd1-40a5-b6b9-9d00727fa224",
   "metadata": {},
   "source": [
    "### Filtering the DataFrame"
   ]
  },
  {
   "cell_type": "markdown",
   "id": "a561b31c-dfcc-4bd3-8a40-fcaae37e948e",
   "metadata": {},
   "source": [
    "#### Filter by product name and units sold"
   ]
  },
  {
   "cell_type": "code",
   "execution_count": 12,
   "id": "6427e755-eee7-4421-a44a-04dba1a8f0a8",
   "metadata": {},
   "outputs": [],
   "source": [
    "# Get rows that sold more than 1 HAND WARMER BIRD DESIGN\n",
    "df_filtered = sales_df[(sales_df['product_name'] == 'HAND WARMER BIRD DESIGN') & \n",
    "                       (sales_df['units_sold'] > 1)]"
   ]
  },
  {
   "cell_type": "code",
   "execution_count": 13,
   "id": "a99e8152-a44b-4b7a-b785-ff061a70f951",
   "metadata": {},
   "outputs": [
    {
     "data": {
      "text/html": [
       "<div>\n",
       "<style scoped>\n",
       "    .dataframe tbody tr th:only-of-type {\n",
       "        vertical-align: middle;\n",
       "    }\n",
       "\n",
       "    .dataframe tbody tr th {\n",
       "        vertical-align: top;\n",
       "    }\n",
       "\n",
       "    .dataframe thead th {\n",
       "        text-align: right;\n",
       "    }\n",
       "</style>\n",
       "<table border=\"1\" class=\"dataframe\">\n",
       "  <thead>\n",
       "    <tr style=\"text-align: right;\">\n",
       "      <th></th>\n",
       "      <th>invoice_id</th>\n",
       "      <th>date</th>\n",
       "      <th>day_of_week</th>\n",
       "      <th>product_name</th>\n",
       "      <th>units_sold</th>\n",
       "      <th>price_per_unit</th>\n",
       "      <th>amount</th>\n",
       "    </tr>\n",
       "  </thead>\n",
       "  <tbody>\n",
       "    <tr>\n",
       "      <th>527</th>\n",
       "      <td>534429</td>\n",
       "      <td>2010-11-24</td>\n",
       "      <td>Wednesday</td>\n",
       "      <td>HAND WARMER BIRD DESIGN</td>\n",
       "      <td>3</td>\n",
       "      <td>2.1</td>\n",
       "      <td>6.3</td>\n",
       "    </tr>\n",
       "    <tr>\n",
       "      <th>534</th>\n",
       "      <td>534431</td>\n",
       "      <td>2010-11-24</td>\n",
       "      <td>Wednesday</td>\n",
       "      <td>HAND WARMER BIRD DESIGN</td>\n",
       "      <td>3</td>\n",
       "      <td>2.1</td>\n",
       "      <td>6.3</td>\n",
       "    </tr>\n",
       "    <tr>\n",
       "      <th>536</th>\n",
       "      <td>534432</td>\n",
       "      <td>2010-11-25</td>\n",
       "      <td>Thursday</td>\n",
       "      <td>HAND WARMER BIRD DESIGN</td>\n",
       "      <td>2</td>\n",
       "      <td>2.1</td>\n",
       "      <td>4.2</td>\n",
       "    </tr>\n",
       "    <tr>\n",
       "      <th>550</th>\n",
       "      <td>534438</td>\n",
       "      <td>2010-11-30</td>\n",
       "      <td>Tuesday</td>\n",
       "      <td>HAND WARMER BIRD DESIGN</td>\n",
       "      <td>2</td>\n",
       "      <td>2.1</td>\n",
       "      <td>4.2</td>\n",
       "    </tr>\n",
       "  </tbody>\n",
       "</table>\n",
       "</div>"
      ],
      "text/plain": [
       "     invoice_id        date day_of_week             product_name  units_sold  \\\n",
       "527      534429  2010-11-24   Wednesday  HAND WARMER BIRD DESIGN           3   \n",
       "534      534431  2010-11-24   Wednesday  HAND WARMER BIRD DESIGN           3   \n",
       "536      534432  2010-11-25    Thursday  HAND WARMER BIRD DESIGN           2   \n",
       "550      534438  2010-11-30     Tuesday  HAND WARMER BIRD DESIGN           2   \n",
       "\n",
       "     price_per_unit  amount  \n",
       "527             2.1     6.3  \n",
       "534             2.1     6.3  \n",
       "536             2.1     4.2  \n",
       "550             2.1     4.2  "
      ]
     },
     "execution_count": 13,
     "metadata": {},
     "output_type": "execute_result"
    }
   ],
   "source": [
    "# Preview the results\n",
    "df_filtered.head()"
   ]
  },
  {
   "cell_type": "code",
   "execution_count": 14,
   "id": "76c4ed14-c646-4e05-ac4b-61621f836624",
   "metadata": {},
   "outputs": [
    {
     "data": {
      "text/plain": [
       "549            HAND WARMER OWL DESIGN\n",
       "550           HAND WARMER BIRD DESIGN\n",
       "551         HAND WARMER RED RETROSPOT\n",
       "552     3 TIER CAKE TIN RED AND CREAM\n",
       "553    CHRISTMAS CRAFT LITTLE FRIENDS\n",
       "Name: product_name, dtype: object"
      ]
     },
     "execution_count": 14,
     "metadata": {},
     "output_type": "execute_result"
    }
   ],
   "source": [
    "# Specify one invoice from the results above\n",
    "index = 534438\n",
    "\n",
    "# Filter by the invoice id\n",
    "row = sales_df[(sales_df[\"invoice_id\"]==index)]\n",
    "\n",
    "# Print the products found in the invoice\n",
    "row['product_name']"
   ]
  },
  {
   "cell_type": "markdown",
   "id": "fc4e1448-8e1d-42ac-8ea3-92835caa5201",
   "metadata": {},
   "source": [
    "### Total amount per invoice"
   ]
  },
  {
   "cell_type": "markdown",
   "id": "7400abce-f8f9-49cc-9a95-3e0abb9bad3f",
   "metadata": {},
   "source": [
    "#### Find the total amount per invoice"
   ]
  },
  {
   "cell_type": "code",
   "execution_count": 15,
   "id": "32bd6503-abc9-44f7-bde8-435cbcfc48a9",
   "metadata": {},
   "outputs": [],
   "source": [
    "# create a pivot table using \"invoice_id\" as index.\n",
    "# use the columns \"units_sold\" and \"amount\" as values, aggregating by sum\n",
    "pivot_by_invoice = sales_df.pivot_table(index='invoice_id', \n",
    "                                        values=['units_sold', 'amount'], \n",
    "                                        aggfunc='sum')"
   ]
  },
  {
   "cell_type": "code",
   "execution_count": 16,
   "id": "f3dc7db8-e8f2-43be-9a35-430983bd3a47",
   "metadata": {},
   "outputs": [
    {
     "data": {
      "text/html": [
       "<div>\n",
       "<style scoped>\n",
       "    .dataframe tbody tr th:only-of-type {\n",
       "        vertical-align: middle;\n",
       "    }\n",
       "\n",
       "    .dataframe tbody tr th {\n",
       "        vertical-align: top;\n",
       "    }\n",
       "\n",
       "    .dataframe thead th {\n",
       "        text-align: right;\n",
       "    }\n",
       "</style>\n",
       "<table border=\"1\" class=\"dataframe\">\n",
       "  <thead>\n",
       "    <tr style=\"text-align: right;\">\n",
       "      <th></th>\n",
       "      <th>amount</th>\n",
       "      <th>units_sold</th>\n",
       "    </tr>\n",
       "    <tr>\n",
       "      <th>invoice_id</th>\n",
       "      <th></th>\n",
       "      <th></th>\n",
       "    </tr>\n",
       "  </thead>\n",
       "  <tbody>\n",
       "    <tr>\n",
       "      <th>534377</th>\n",
       "      <td>94.99</td>\n",
       "      <td>19</td>\n",
       "    </tr>\n",
       "    <tr>\n",
       "      <th>534378</th>\n",
       "      <td>39.95</td>\n",
       "      <td>1</td>\n",
       "    </tr>\n",
       "    <tr>\n",
       "      <th>534379</th>\n",
       "      <td>23.80</td>\n",
       "      <td>4</td>\n",
       "    </tr>\n",
       "    <tr>\n",
       "      <th>534380</th>\n",
       "      <td>113.35</td>\n",
       "      <td>13</td>\n",
       "    </tr>\n",
       "    <tr>\n",
       "      <th>534381</th>\n",
       "      <td>140.35</td>\n",
       "      <td>55</td>\n",
       "    </tr>\n",
       "  </tbody>\n",
       "</table>\n",
       "</div>"
      ],
      "text/plain": [
       "            amount  units_sold\n",
       "invoice_id                    \n",
       "534377       94.99          19\n",
       "534378       39.95           1\n",
       "534379       23.80           4\n",
       "534380      113.35          13\n",
       "534381      140.35          55"
      ]
     },
     "execution_count": 16,
     "metadata": {},
     "output_type": "execute_result"
    }
   ],
   "source": [
    "# Inspect the total_amount Series\n",
    "pivot_by_invoice.head()"
   ]
  },
  {
   "cell_type": "markdown",
   "id": "146c4d05-18ac-4b53-8d36-a74db8f6c5ee",
   "metadata": {},
   "source": [
    "### Descriptive statistics"
   ]
  },
  {
   "cell_type": "code",
   "execution_count": 17,
   "id": "8ea764ea-9f85-45f7-a91d-77c82fffdff5",
   "metadata": {},
   "outputs": [
    {
     "data": {
      "text/plain": [
       "pandas.core.frame.DataFrame"
      ]
     },
     "execution_count": 17,
     "metadata": {},
     "output_type": "execute_result"
    }
   ],
   "source": [
    "# Get the datatype of the pivot table output\n",
    "type(pivot_by_invoice)"
   ]
  },
  {
   "cell_type": "code",
   "execution_count": 18,
   "id": "4e9dc119-0c03-40e7-966e-196150c2d2a0",
   "metadata": {},
   "outputs": [
    {
     "name": "stdout",
     "output_type": "stream",
     "text": [
      "<class 'pandas.core.frame.DataFrame'>\n",
      "Index: 69 entries, 534377 to 534445\n",
      "Data columns (total 2 columns):\n",
      " #   Column      Non-Null Count  Dtype  \n",
      "---  ------      --------------  -----  \n",
      " 0   amount      69 non-null     float64\n",
      " 1   units_sold  69 non-null     int64  \n",
      "dtypes: float64(1), int64(1)\n",
      "memory usage: 1.6 KB\n"
     ]
    }
   ],
   "source": [
    "# Get a summary of the features\n",
    "pivot_by_invoice.info()"
   ]
  },
  {
   "cell_type": "markdown",
   "id": "d157477e-7e1b-4529-94e5-2e7e440ddfa0",
   "metadata": {},
   "source": [
    "#### Slicing the DataFrame"
   ]
  },
  {
   "cell_type": "code",
   "execution_count": 19,
   "id": "02f0271a-060a-475f-bc34-5c12b424a4bc",
   "metadata": {},
   "outputs": [],
   "source": [
    "# Get 40 rows starting on the 20th invoice.\n",
    "pbi_sliced = pivot_by_invoice.iloc[20:60]  # Rows 20-59 (40 rows)"
   ]
  },
  {
   "cell_type": "code",
   "execution_count": 20,
   "id": "2714b458-8b8f-44a1-91b7-cb0031e0017d",
   "metadata": {},
   "outputs": [
    {
     "name": "stdout",
     "output_type": "stream",
     "text": [
      "number of rows: 40\n",
      "\n",
      "amount        115.25\n",
      "units_sold     65.00\n",
      "Name: 534397, dtype: float64\n",
      "\n",
      "amount        11.8\n",
      "units_sold     4.0\n",
      "Name: 534436, dtype: float64\n"
     ]
    }
   ],
   "source": [
    "# Print number of rows\n",
    "print(\"number of rows:\", len(pbi_sliced))\n",
    "print()\n",
    "\n",
    "# Print start and end rows\n",
    "print(pbi_sliced.iloc[0])\n",
    "print()\n",
    "print(pbi_sliced.iloc[39])"
   ]
  },
  {
   "cell_type": "markdown",
   "id": "efae65d1-d95f-4fbe-ad59-0052a9f1634b",
   "metadata": {},
   "source": [
    "#### Analyzing the amount per invoice"
   ]
  },
  {
   "cell_type": "code",
   "execution_count": 21,
   "id": "496112de-d87c-4bf4-8cda-c9829f1d4809",
   "metadata": {},
   "outputs": [],
   "source": [
    "# find the sum, mean, max in pbi_sliced\n",
    "\n",
    "\n",
    "# find the correlation of the numerical variables of pbi_sliced\n",
    "amount_sum = pbi_sliced['amount'].sum()\n",
    "amount_mean = pbi_sliced['amount'].mean()\n",
    "amount_max = pbi_sliced['amount'].max()\n",
    "corr_units_amount = pbi_sliced[['units_sold', 'amount']].corr()"
   ]
  },
  {
   "cell_type": "code",
   "execution_count": 22,
   "id": "87457322-5a72-4d4f-aeaa-1d2101c3fd2e",
   "metadata": {},
   "outputs": [
    {
     "name": "stdout",
     "output_type": "stream",
     "text": [
      "The sum of all sales is: 2102.03\n",
      "The mean amount per purchase is: 52.55\n",
      "The highest purchase amount is: 295.0\n",
      "The correlation between the amount and number of units sold per invoice is 0.6193\n"
     ]
    }
   ],
   "source": [
    "# Print the results\n",
    "print(\"The sum of all sales is:\", round(amount_sum, 2))\n",
    "print(\"The mean amount per purchase is:\", round(amount_mean, 2))\n",
    "print(\"The highest purchase amount is:\", round(amount_max, 2))\n",
    "print(\"The correlation between the amount and number of units sold per invoice is\", \n",
    "      round(corr_units_amount.loc['amount']['units_sold'],4))"
   ]
  }
 ],
 "metadata": {
  "kernelspec": {
   "display_name": "Python 3 (ipykernel)",
   "language": "python",
   "name": "python3"
  },
  "language_info": {
   "codemirror_mode": {
    "name": "ipython",
    "version": 3
   },
   "file_extension": ".py",
   "mimetype": "text/x-python",
   "name": "python",
   "nbconvert_exporter": "python",
   "pygments_lexer": "ipython3",
   "version": "3.12.7"
  }
 },
 "nbformat": 4,
 "nbformat_minor": 5
}
